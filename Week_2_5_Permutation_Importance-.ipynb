{
 "cells": [
  {
   "cell_type": "markdown",
   "metadata": {},
   "source": [
    "## Global Model Agnostic AI Model Explanation: Permutation Feature Improtance\n"
   ]
  },
  {
   "cell_type": "code",
   "execution_count": 23,
   "metadata": {},
   "outputs": [],
   "source": [
    "import numpy as np\n",
    "import pandas as pd\n",
    "from sklearn.datasets import load_diabetes\n",
    "from sklearn.ensemble import RandomForestClassifier\n",
    "#from sklearn.ensemble import GradientBoostingClassifier\n",
    "from sklearn.model_selection import train_test_split\n",
    "from sklearn.metrics import accuracy_score\n",
    "from sklearn.inspection import permutation_importance\n",
    "import matplotlib.pyplot as plt\n"
   ]
  },
  {
   "cell_type": "code",
   "execution_count": 2,
   "metadata": {},
   "outputs": [
    {
     "name": "stdout",
     "output_type": "stream",
     "text": [
      "Collecting scikit-learn==1.1\n",
      "  Downloading scikit_learn-1.1.0-cp39-cp39-macosx_10_13_x86_64.whl (8.6 MB)\n",
      "\u001b[K     |████████████████████████████████| 8.6 MB 319 kB/s eta 0:00:01\n",
      "\u001b[?25hRequirement already satisfied: scipy>=1.3.2 in /Users/didemgod/opt/anaconda3/lib/python3.9/site-packages (from scikit-learn==1.1) (1.7.3)\n",
      "Requirement already satisfied: joblib>=1.0.0 in /Users/didemgod/opt/anaconda3/lib/python3.9/site-packages (from scikit-learn==1.1) (1.1.0)\n",
      "Requirement already satisfied: threadpoolctl>=2.0.0 in /Users/didemgod/opt/anaconda3/lib/python3.9/site-packages (from scikit-learn==1.1) (2.2.0)\n",
      "Requirement already satisfied: numpy>=1.17.3 in /Users/didemgod/opt/anaconda3/lib/python3.9/site-packages (from scikit-learn==1.1) (1.21.5)\n",
      "Installing collected packages: scikit-learn\n",
      "  Attempting uninstall: scikit-learn\n",
      "    Found existing installation: scikit-learn 1.0.2\n",
      "    Uninstalling scikit-learn-1.0.2:\n",
      "      Successfully uninstalled scikit-learn-1.0.2\n",
      "Successfully installed scikit-learn-1.1.0\n",
      "Note: you may need to restart the kernel to use updated packages.\n"
     ]
    }
   ],
   "source": [
    "pip install scikit-learn==1.1"
   ]
  },
  {
   "cell_type": "code",
   "execution_count": 24,
   "metadata": {},
   "outputs": [],
   "source": [
    "random_state = 42\n",
    "\n",
    "# Load the Diabetes dataset\n",
    "diabetes_data = load_diabetes(scaled=False)\n",
    "X = pd.DataFrame(diabetes_data.data, columns=diabetes_data.feature_names)\n",
    "y = diabetes_data.target\n",
    "\n",
    "# binarizing the target\n",
    "y = y>=np.median(y)\n",
    "\n",
    "# Split the data into training and testing sets\n",
    "X_train, X_test, y_train, y_test = train_test_split(X, y, test_size=0.5, random_state=random_state)"
   ]
  },
  {
   "cell_type": "code",
   "execution_count": 25,
   "metadata": {},
   "outputs": [],
   "source": [
    "# Create and fit the Random Forest Classifier\n",
    "model = RandomForestClassifier(n_estimators=100, random_state=random_state)\n",
    "model.fit(X_train, y_train)\n",
    "\n",
    "# Make predictions on the test set\n",
    "y_pred = model.predict(X_test)\n"
   ]
  },
  {
   "cell_type": "code",
   "execution_count": 26,
   "metadata": {},
   "outputs": [
    {
     "name": "stdout",
     "output_type": "stream",
     "text": [
      "Classifier Accuracy: 0.7285067873303167\n"
     ]
    }
   ],
   "source": [
    "# Calculate the accuracy\n",
    "acc = accuracy_score(y_test, y_pred)\n",
    "\n",
    "print(f'Classifier Accuracy: {acc}')\n",
    "\n",
    "#classifyer accuracy: the total number of correct predictions divided by the. total number of predictions made for a dataset."
   ]
  },
  {
   "cell_type": "code",
   "execution_count": 27,
   "metadata": {},
   "outputs": [],
   "source": [
    "\n",
    "# Calculate permutation importances\n",
    "result = permutation_importance(model, X_test, y_test, n_repeats=25, random_state=random_state)\n",
    "\n",
    "# Create a DataFrame to store the permutation importances with their corresponding feature names\n",
    "importances_df = pd.DataFrame({'Feature': diabetes_data.feature_names, 'Importance': result.importances_mean,\n",
    "                               'std': result.importances_std})\n",
    "\n",
    "# Sort the DataFrame by importance in descending order\n",
    "importances_df = importances_df.reindex(importances_df['Importance'].abs().sort_values(ascending=False).index)"
   ]
  },
  {
   "cell_type": "code",
   "execution_count": 28,
   "metadata": {},
   "outputs": [
    {
     "data": {
      "image/png": "[encoded data removed]",
      "text/plain": [
       "<Figure size 864x432 with 1 Axes>"
      ]
     },
     "metadata": {
      "needs_background": "light"
     },
     "output_type": "display_data"
    }
   ],
   "source": [
    "\n",
    "# Create the second subplot for Permutation Importances bar plot, test score 0.5\n",
    "plt.figure(figsize=(12, 6))\n",
    "plt.subplot(1, 1, 1)\n",
    "plt.bar(importances_df['Feature'], importances_df['Importance'], yerr=importances_df['std'])\n",
    "plt.xticks(rotation=45, ha='right')\n",
    "plt.xlabel('Feature')\n",
    "plt.ylabel('Importance')\n",
    "plt.title('Permutation Feature Importance')\n",
    "plt.tight_layout()\n",
    "plt.show()\n"
   ]
  },
  {
   "cell_type": "markdown",
   "metadata": {},
   "source": [
    "**Exercise 8:** Increase the size of the test set to 0.5, and repeat the analysis. Is the results different? Which one is more reliable?\n",
    "\n",
    "**Exercise 9:** What is the interpretation of nagative importance? Why do they happen? Discuss.\n",
    "\n",
    "**Exercise 10:** Try the same method with Gradient Boosting Classifier and explain the similarities and differences in results. "
   ]
  },
  {
   "cell_type": "code",
   "execution_count": 9,
   "metadata": {},
   "outputs": [],
   "source": [
    "#Permutation feature importance is a model inspection technique that measures the contribution of each feature to a \n",
    "#fitted model’s statistical performance on a given tabular dataset. \n",
    "#This technique is particularly useful for non-linear or opaque estimators, and involves randomly shuffling the \n",
    "#values of a single feature and observing the resulting degradation of the model’s score [1].\n",
    "#By breaking the relationship between the feature and the target, we determine how much the model relies on such \n",
    "#particular feature.\n"
   ]
  },
  {
   "cell_type": "code",
   "execution_count": null,
   "metadata": {},
   "outputs": [],
   "source": [
    "Exercise 8: Increase the size of the test set to 0.5, and repeat the analysis. Is the results different? \n",
    "Which one is more reliable?\n",
    "#First s5 0.055, bmi 0.051,s3 0.028, s2 -0.022, s1 -0.017 ,age -0.0015, s4 0.017, sex 0.01, , bp 0.008, s6 0.002\n",
    "# Classifier Accuracy: 0.7477477477477478\n",
    "# After changing the test set o 0.5 results changed: bmi= 0.054, s5= 0.052, s3= 0.029, bp=0.019, s4=0.017, age=-0.09, \n",
    "s6=-0.07, s2=-0.06, sex=0.002, s1=-0.002\n",
    "# Classifier Accuracy: 0.7285067873303167\n",
    "\n",
    "When the test set size was increased to 0.5, the results changed. The classifier accuracy dropped from 0.7477 to 0.7285.\n",
    "\n",
    "Initially: s5 = 0.055, bmi = 0.051, s3 = 0.028, s2 = -0.022, s1 = -0.017, age = -0.0015, s4 = 0.017, sex = 0.01, \n",
    "bp = 0.008, s6 = 0.002\n",
    "After change: bmi = 0.054, s5 = 0.052, s3 = 0.029, bp = 0.019, s4 = 0.017, age = -0.09, s6 = -0.07, s2 = -0.06, \n",
    "sex = 0.002, s1 = -0.002\n",
    "\n",
    "This slight drop in accuracy shows that the model's performance isn't as strong with a larger test set. \n",
    "However, using a test set of 0.5 can give a better idea of how the model will perform on new, \n",
    "unseen data because more data is being tested. \n",
    "At the same time, using a bigger test set means less data is available for training, \n",
    "which can limit the model's ability to learn from the data, as seen with the small drop in accuracy.\n",
    "\n"
   ]
  },
  {
   "cell_type": "code",
   "execution_count": 22,
   "metadata": {},
   "outputs": [
    {
     "data": {
      "image/png": "[encoded data removed]",
      "text/plain": [
       "<Figure size 864x432 with 1 Axes>"
      ]
     },
     "metadata": {
      "needs_background": "light"
     },
     "output_type": "display_data"
    }
   ],
   "source": [
    "# Create the second subplot for Permutation Importances bar plot test score: 0.25\n",
    "plt.figure(figsize=(12, 6))\n",
    "plt.subplot(1, 1, 1)\n",
    "plt.bar(importances_df['Feature'], importances_df['Importance'], yerr=importances_df['std'])\n",
    "plt.xticks(rotation=45, ha='right')\n",
    "plt.xlabel('Feature')\n",
    "plt.ylabel('Importance')\n",
    "plt.title('Permutation Feature Importance')\n",
    "plt.tight_layout()\n",
    "plt.show()\n"
   ]
  },
  {
   "cell_type": "code",
   "execution_count": null,
   "metadata": {},
   "outputs": [],
   "source": [
    "Exercise 9: What is the interpretation of nagative importance? Why do they happen? Discuss.\n",
    "Negative permutation importance happens when a model's predictions improve after shuffling or making the values \n",
    "of a feature noisy. \n",
    "This suggests that the model is dependent on that feature in a way that reduces performance, implying that it \n",
    "would perform better without it.\n",
    "\n",
    "When characteristics of negative relevance such as s2, s1, and age were shuffled, \n",
    "the model's predictions were more accurate than when they were left unchanged. \n",
    "This can occur when the model wrongly assumes that these traits are valuable, \n",
    "when in fact they may introduce noise or false information.\n"
   ]
  },
  {
   "cell_type": "code",
   "execution_count": 15,
   "metadata": {},
   "outputs": [
    {
     "data": {
      "image/png": "[encoded data removed]",
      "text/plain": [
       "<Figure size 864x432 with 1 Axes>"
      ]
     },
     "metadata": {
      "needs_background": "light"
     },
     "output_type": "display_data"
    }
   ],
   "source": [
    "\n",
    "# Create the second subplot for Permutation Importances bar plot\n",
    "plt.figure(figsize=(12, 6))\n",
    "plt.subplot(1, 1, 1)\n",
    "plt.bar(importances_df['Feature'], importances_df['Importance'], yerr=importances_df['std'])\n",
    "plt.xticks(rotation=45, ha='right')\n",
    "plt.xlabel('Feature')\n",
    "plt.ylabel('Importance')\n",
    "plt.title('Permutation Feature Importance')\n",
    "plt.tight_layout()\n",
    "plt.show()\n"
   ]
  },
  {
   "cell_type": "raw",
   "metadata": {},
   "source": [
    "Exercise 10: Try the same method with Gradient Boosting Classifier and explain the similarities and differences in results.\n",
    "Classifier Accuracy: 0.7837837837837838\n",
    "Using the Gradient Boosting Classifier, the classifier accuracy increased to 0.7838. \n",
    "The relationship between the features and their relative importance remains similar to the previous method, \n",
    "but the actual importance values for each feature have changed. \n",
    "Notably, there are no negative importance values in the new bar plot, \n",
    "meaning none of the features lead to better predictions when shuffled compared to the real data.\n",
    "\n",
    "Gradient Boosting Classifiers can often be more accurate than Random Forests because each tree is trained to correct the errors of the previous one, \n",
    "allowing them to capture complex patterns in the data. However, they can also overfit if the data is noisy, \n",
    "as they might end up modeling the noise.\n",
    "\n",
    "There are two main differences between Gradient Boosting and Random Forests. \n",
    "First, Gradient Boosting trains trees sequentially, where each new tree corrects the errors of the previous ones, \n",
    "while Random Forest trains all trees independently and in parallel. Second, \n",
    "Random Forest aggregates the outputs of all trees to make a collective prediction, \n",
    "while Gradient Boosting relies on a fixed order of trees, where each tree's prediction depends on the previous ones."
   ]
  }
 ],
 "metadata": {
  "kernelspec": {
   "display_name": "Python 3 (ipykernel)",
   "language": "python",
   "name": "python3"
  },
  "language_info": {
   "codemirror_mode": {
    "name": "ipython",
    "version": 3
   },
   "file_extension": ".py",
   "mimetype": "text/x-python",
   "name": "python",
   "nbconvert_exporter": "python",
   "pygments_lexer": "ipython3",
   "version": "3.9.12"
  }
 },
 "nbformat": 4,
 "nbformat_minor": 4
}
