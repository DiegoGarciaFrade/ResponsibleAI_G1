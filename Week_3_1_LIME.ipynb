{
 "cells": [
  {
   "cell_type": "markdown",
   "metadata": {},
   "source": [
    "## Local Interpretable Model-agnostic Explanations\n",
    "\n",
    "LIME (Local Interpretable Model-agnostic Explanations) is a model-agnostic technique used for explaining the predictions of machine learning models. It generates local explanations for individual predictions. Below is an example of how to use LIME with a Random Forest Regressor for the same \"Diabetes\" dataset.\n",
    "\n",
    "In this code:\n",
    "\n",
    "* We load the \"Diabetes\" dataset and train a Gradient Boosting Classifier, just like in the previous examples.\n",
    "\n",
    "* We create a LIME explainer using LimeTabularExplainer. LIME requires the training data, and we set the mode to \"regression\" since we are working with a regression problem.\n",
    "\n",
    "* We choose a prediction to explain, in this case, we use the prediction for the first test data point.\n",
    "\n",
    "* We explain the prediction using the LIME explainer, which generates an explanation.\n",
    "\n",
    "* Finally, we visualize the explanation using the show_in_notebook method.\n",
    "\n",
    "This will provide a local explanation for how the Random Forest model arrived at its prediction for the selected data point. You can use LIME to explain predictions for other data points as well."
   ]
  },
  {
   "cell_type": "code",
   "execution_count": null,
   "metadata": {},
   "outputs": [],
   "source": [
    "# First we install LIME\n",
    "!pip install lime\n",
    "# upgrading sklearn to the latest version\n",
    "!pip install scikit-learn --upgrade"
   ]
  },
  {
   "cell_type": "code",
   "execution_count": null,
   "metadata": {},
   "outputs": [],
   "source": [
    "import numpy as np\n",
    "import pandas as pd\n",
    "from sklearn.datasets import load_diabetes\n",
    "from sklearn.ensemble import GradientBoostingClassifier\n",
    "from sklearn.model_selection import train_test_split\n",
    "from sklearn.metrics import accuracy_score\n",
    "from lime.lime_tabular import LimeTabularExplainer"
   ]
  },
  {
   "cell_type": "code",
   "execution_count": null,
   "metadata": {},
   "outputs": [],
   "source": [
    "random_state = 42\n",
    "\n",
    "# Load the Diabetes dataset\n",
    "diabetes_data = load_diabetes(scaled=False)\n",
    "X = pd.DataFrame(diabetes_data.data, columns=diabetes_data.feature_names)\n",
    "y = diabetes_data.target\n",
    "\n",
    "# Set a threshold for binary classification (e.g., using the median of y)\n",
    "threshold = np.median(y)\n",
    "y_binary = (y > threshold).astype(int)  # 1 for high risk, 0 for low risk\n",
    "\n",
    "# Split the data into training and testing sets\n",
    "X_train, X_test, y_train, y_test = train_test_split(X, y_binary, test_size=0.2, random_state=random_state)"
   ]
  },
  {
   "cell_type": "code",
   "execution_count": null,
   "metadata": {},
   "outputs": [],
   "source": [
    "# Create and fit the Random Forest Classifier model\n",
    "model = GradientBoostingClassifier(n_estimators=100, random_state=random_state)\n",
    "model.fit(X_train, y_train)\n",
    "\n",
    "# Make predictions on the test set\n",
    "y_pred = model.predict(X_test)\n",
    "\n",
    "# Calculate accuracy score\n",
    "accuracy = accuracy_score(y_test, y_pred)\n",
    "print(\"Accuracy on Test Data:\", accuracy)"
   ]
  },
  {
   "cell_type": "code",
   "execution_count": null,
   "metadata": {},
   "outputs": [],
   "source": [
    "# Create a LIME explainer with feature names, \n",
    "# kernel_width – kernel width for the exponential kernel. If None, defaults to sqrt (number of columns) * 0.75\n",
    "# kernel – Function that transforms an array of distances into an array of proximity values (floats).\n",
    "# similarity kernel takes Euclidean distances and kernel width as input and outputs weights in (0,1). \n",
    "# If None, defaults to an exponential kernel: np.sqrt(np.exp(-(d ** 2) / kernel_width ** 2))\n",
    "explainer = LimeTabularExplainer(X_train.values, mode=\"classification\", training_labels=y_train, \n",
    "                                 feature_names=X.columns, categorical_features=[1],\n",
    "                                 sample_around_instance=True, kernel_width=None, random_state=42)"
   ]
  },
  {
   "cell_type": "code",
   "execution_count": null,
   "metadata": {},
   "outputs": [],
   "source": [
    "# Explain the prediction\n",
    "sample_ind = 1\n",
    "# model_regressor – sklearn regressor to be used in the explanation. Defaults to Ridge regression in LimeBase. \n",
    "# Must have model_regressor.coef_ and ‘sample_weight’ as a parameter to model_regressor.fit()\n",
    "# sampling_method – Method to sample synthetic data. Defaults to Gaussian sampling. Can also use Latin Hypercube Sampling.\n",
    "explanation = explainer.explain_instance(data_row=X_test.iloc[sample_ind].values, predict_fn=model.predict_proba)\n",
    "\n",
    "# Visualize the explanation\n",
    "explanation.show_in_notebook()\n"
   ]
  },
  {
   "cell_type": "markdown",
   "metadata": {},
   "source": [
    "**Exercise 3.1:** Have a look at the documentation of LimeTabularExplainer (at https://lime-ml.readthedocs.io/en/latest/lime.html#lime.lime_tabular.LimeTabularExplainer) and explain_instance (at https://lime-ml.readthedocs.io/en/latest/lime.html#lime.lime_tabular.LimeTabularExplainer.explain_instance), and study their different options for input arguments.\n",
    "\n",
    "**Exercise 3.2:** Try the LIME explainer `sample_around_instance=False` and `sample_around_instance=True` for a few (5) samples. Do the results differ? What are pros and cons of using each option?  "
   ]
  }
 ],
 "metadata": {
  "kernelspec": {
   "display_name": "Python 3 (ipykernel)",
   "language": "python",
   "name": "python3"
  },
  "language_info": {
   "codemirror_mode": {
    "name": "ipython",
    "version": 3
   },
   "file_extension": ".py",
   "mimetype": "text/x-python",
   "name": "python",
   "nbconvert_exporter": "python",
   "pygments_lexer": "ipython3",
   "version": "3.11.5"
  }
 },
 "nbformat": 4,
 "nbformat_minor": 4
}
