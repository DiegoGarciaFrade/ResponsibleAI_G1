{
 "cells": [
  {
   "cell_type": "markdown",
   "metadata": {},
   "source": [
    "## Model Robustness at The Prediction Stage: Estimating Epistemic Uncertainty using Bootstrapping Technique\n",
    "\n",
    "Estimating epistemic uncertainty plays a crucial role in enhancing the safety of AI-based decision-making in several ways.\n",
    "   \n",
    "Here, we try to showcase how to use a bag of GBC classifier to estimate the prediction uncertainty on our adapted Diabetes dataset. "
   ]
  },
  {
   "cell_type": "code",
   "execution_count": null,
   "metadata": {},
   "outputs": [],
   "source": [
    "!pip install scikit-learn --upgrade"
   ]
  },
  {
   "cell_type": "markdown",
   "metadata": {},
   "source": [
    "### Importing Packages and Data Preparation"
   ]
  },
  {
   "cell_type": "code",
   "execution_count": null,
   "metadata": {},
   "outputs": [],
   "source": [
    "import numpy as np\n",
    "import pandas as pd\n",
    "from sklearn.datasets import load_diabetes\n",
    "from sklearn.model_selection import train_test_split\n",
    "from sklearn.ensemble import GradientBoostingClassifier, BaggingClassifier\n",
    "from sklearn.preprocessing import StandardScaler\n",
    "import matplotlib.pyplot as plt\n",
    "from sklearn.metrics import accuracy_score\n",
    "\n",
    "\n",
    "# Load the Diabetes dataset\n",
    "diabetes_data = load_diabetes()\n",
    "X = diabetes_data.data\n",
    "y = diabetes_data.target\n",
    "\n",
    "# Set a threshold for binary classification (e.g., using the median of y)\n",
    "threshold = np.median(y)\n",
    "y_binary = (y > threshold).astype(int)  # 1 for high risk, 0 for low risk\n",
    "\n",
    "# Split the data into training and testing sets\n",
    "X_train, X_test, y_train, y_test = train_test_split(X, y_binary, test_size=0.2, random_state=42)\n",
    "\n",
    "# Standardize the data\n",
    "scaler = StandardScaler()\n",
    "X_train = scaler.fit_transform(X_train)\n",
    "X_test = scaler.transform(X_test)"
   ]
  },
  {
   "cell_type": "markdown",
   "metadata": {},
   "source": [
    "### Fitting a bag of GBC clasifer and computing model accuracy"
   ]
  },
  {
   "cell_type": "code",
   "execution_count": null,
   "metadata": {},
   "outputs": [],
   "source": [
    "# Define the base model\n",
    "base_model = GradientBoostingClassifier(random_state=42)\n",
    "\n",
    "# Define the BaggingClassifier with 1000 base models\n",
    "model = BaggingClassifier(estimator=base_model, n_estimators=100, n_jobs=-1, random_state=42)\n",
    "model.fit(X_train, y_train)\n",
    "\n",
    "y_pred = model.predict(X_test)\n",
    "accuracy = accuracy_score(y_test, y_pred)\n",
    "print(f\"Accuracy of the BaggingClassifier on the Test Set: {accuracy:.2f}\")"
   ]
  },
  {
   "cell_type": "markdown",
   "metadata": {},
   "source": [
    "### Estimating the epistemic uncertainty\n",
    "Here we first predict using all the models in the bag on the test set, then calculate the median for the final prediction, and 5-percentile as a lower bound, and 95-percentile as higher bound for the prediction."
   ]
  },
  {
   "cell_type": "code",
   "execution_count": null,
   "metadata": {},
   "outputs": [],
   "source": [
    "# Get the predictions from each base model in the ensemble\n",
    "predictions = np.array([estimator.predict_proba(X_test)[:, 1] for estimator in model.estimators_])\n",
    "\n",
    "# Calculate the 5th and 95th percentiles of the predictions\n",
    "lower_bound = np.percentile(predictions, 5, axis=0)\n",
    "upper_bound = np.percentile(predictions, 95, axis=0)\n",
    "median_predictions = np.median(predictions, axis=0)"
   ]
  },
  {
   "cell_type": "markdown",
   "metadata": {},
   "source": [
    "### Plotting the prediction with uncertainty estimates:"
   ]
  },
  {
   "cell_type": "code",
   "execution_count": null,
   "metadata": {},
   "outputs": [],
   "source": [
    "# Plot error bars for predictions\n",
    "indices = range(median_predictions.shape[0])\n",
    "plt.figure(figsize=[18,6])\n",
    "plt.errorbar(indices, median_predictions, yerr=[median_predictions - lower_bound, upper_bound - median_predictions], fmt='o',capsize=5)\n",
    "plt.scatter(indices, y_test[indices], marker='s', c='k')\n",
    "plt.title('Prediction Uncertainty for the First 10 Samples')\n",
    "plt.xlabel('Sample Index')\n",
    "plt.ylabel('Predicted Probability')\n",
    "plt.ylim(-0.1,1.1)\n",
    "plt.grid(True, linestyle='--', alpha=0.5)\n",
    "plt.show()"
   ]
  },
  {
   "cell_type": "markdown",
   "metadata": {},
   "source": [
    "### More Informed and Safe Decision Making\n",
    "\n",
    "We can use the estimated prediction uncertainties for more informade decision making. For example, using a threshold on the uncertainty, we can exclude uncertain predictions from decision making process. This will reduce the decisiveness of the model (number of used model predictions for decision making), but increases the accuracy of decisions and trust in the model. This sometimes can be a game changer as it transfers a risky/unsafe and not-usable model in practice to a useful trustworthy/safe model. "
   ]
  },
  {
   "cell_type": "code",
   "execution_count": null,
   "metadata": {},
   "outputs": [],
   "source": [
    "threshold = 0.2\n",
    "idx = upper_bound - lower_bound < threshold\n",
    "\n",
    "accuracy = accuracy_score(y_test[idx], y_pred[idx])\n",
    "decisiveness = sum(idx)/idx.shape[0]\n",
    "\n",
    "print(f\"The model can give us certain decisions about {decisiveness:.2f} of the test samples with the accuracy of: {accuracy:.2f}\")\n",
    "\n"
   ]
  },
  {
   "cell_type": "markdown",
   "metadata": {},
   "source": [
    "**Exercise 5.3** Change the treshold in the above example from 0 to 1 and plot (let's say in 0.05 intervals) the decisiveness-accuracy curve (decissivness on the x-axis and accuracy on the y-axis). What would be the best threshold for this example? Discuss. "
   ]
  }
 ],
 "metadata": {
  "kernelspec": {
   "display_name": "Python 3",
   "language": "python",
   "name": "python3"
  },
  "language_info": {
   "codemirror_mode": {
    "name": "ipython",
    "version": 3
   },
   "file_extension": ".py",
   "mimetype": "text/x-python",
   "name": "python",
   "nbconvert_exporter": "python",
   "pygments_lexer": "ipython3",
   "version": "3.10.9"
  },
  "orig_nbformat": 4
 },
 "nbformat": 4,
 "nbformat_minor": 2
}
