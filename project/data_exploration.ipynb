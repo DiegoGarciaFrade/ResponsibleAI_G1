{
 "cells": [
  {
   "cell_type": "code",
   "execution_count": 1,
   "metadata": {},
   "outputs": [],
   "source": [
    "# Import necessary libraries\n",
    "import pandas as pd\n",
    "import numpy as np\n",
    "import matplotlib.pyplot as plt\n",
    "import seaborn as sns\n",
    "from sklearn import datasets"
   ]
  },
  {
   "cell_type": "code",
   "execution_count": 11,
   "metadata": {},
   "outputs": [],
   "source": [
    "data = pd.read_csv(\"Assignment_dataset.csv\")\n"
   ]
  },
  {
   "cell_type": "code",
   "execution_count": 3,
   "metadata": {},
   "outputs": [
    {
     "name": "stdout",
     "output_type": "stream",
     "text": [
      "   ADMISSION  NATURAL_SCIENCE_SCORE  ENGLISH_SCORE  READING_SCORE  MATH_SCORE  \\\n",
      "0      False                     49             48             57          25   \n",
      "1      False                     60             55             68          60   \n",
      "2       True                     76             79             68         100   \n",
      "3       True                     73             79             66          83   \n",
      "4      False                     52             56             56          28   \n",
      "\n",
      "   SOCIAL_SCIENCE_SCORE SCHOOL_CALENDAR  PUBLIC_SCHOOL  BILINGUAL_SCHOOL  \\\n",
      "0                    48               A           True             False   \n",
      "1                    68               A           True             False   \n",
      "2                    72               A          False             False   \n",
      "3                    72               A          False             False   \n",
      "4                    53               A           True             False   \n",
      "\n",
      "  GENDER   AGE PARENTS_EDUCATION FAMILY_INCOME_LEVEL PEOPLE_AT_HOME  \\\n",
      "0      F  16.0        Vocational                   3         3 or 4   \n",
      "1      M  17.0           Primary                   1             7+   \n",
      "2      M  17.0        University                   3         3 or 4   \n",
      "3      M  17.0        University                   3         3 or 4   \n",
      "4      F  15.0           Primary                   1         3 or 4   \n",
      "\n",
      "   FAMILY_HAS_CAR  HAS_INTERNET_ACCESS  \n",
      "0           False                 True  \n",
      "1           False                 True  \n",
      "2           False                 True  \n",
      "3           False                 True  \n",
      "4           False                False  \n",
      "\n",
      "Shape of the dataset: (136878, 16)\n",
      "\n",
      "Data types of each column:\n",
      "ADMISSION                   bool\n",
      "NATURAL_SCIENCE_SCORE      int64\n",
      "ENGLISH_SCORE              int64\n",
      "READING_SCORE              int64\n",
      "MATH_SCORE                 int64\n",
      "SOCIAL_SCIENCE_SCORE       int64\n",
      "SCHOOL_CALENDAR           object\n",
      "PUBLIC_SCHOOL               bool\n",
      "BILINGUAL_SCHOOL            bool\n",
      "GENDER                    object\n",
      "AGE                      float64\n",
      "PARENTS_EDUCATION         object\n",
      "FAMILY_INCOME_LEVEL       object\n",
      "PEOPLE_AT_HOME            object\n",
      "FAMILY_HAS_CAR              bool\n",
      "HAS_INTERNET_ACCESS         bool\n",
      "dtype: object\n",
      "\n",
      "Missing values in each column:\n",
      "ADMISSION                  0\n",
      "NATURAL_SCIENCE_SCORE      0\n",
      "ENGLISH_SCORE              0\n",
      "READING_SCORE              0\n",
      "MATH_SCORE                 0\n",
      "SOCIAL_SCIENCE_SCORE       0\n",
      "SCHOOL_CALENDAR            0\n",
      "PUBLIC_SCHOOL              0\n",
      "BILINGUAL_SCHOOL           0\n",
      "GENDER                     0\n",
      "AGE                        0\n",
      "PARENTS_EDUCATION        831\n",
      "FAMILY_INCOME_LEVEL        0\n",
      "PEOPLE_AT_HOME             0\n",
      "FAMILY_HAS_CAR             0\n",
      "HAS_INTERNET_ACCESS        0\n",
      "dtype: int64\n"
     ]
    }
   ],
   "source": [
    "# 1. Initial Data Exploration:\n",
    "print(data.head())\n",
    "print(\"\\nShape of the dataset:\", data.shape)\n",
    "print(\"\\nData types of each column:\")\n",
    "print(data.dtypes)\n",
    "print(\"\\nMissing values in each column:\")\n",
    "print(data.isnull().sum())\n",
    "\n",
    "# check different values of features"
   ]
  },
  {
   "cell_type": "code",
   "execution_count": 4,
   "metadata": {},
   "outputs": [
    {
     "name": "stdout",
     "output_type": "stream",
     "text": [
      "\n",
      "Summary statistics for numerical columns:\n",
      "       NATURAL_SCIENCE_SCORE  ENGLISH_SCORE  READING_SCORE     MATH_SCORE  \\\n",
      "count          136878.000000  136878.000000  136878.000000  136878.000000   \n",
      "mean               57.231199      59.650828      58.252436      54.504500   \n",
      "std                10.216689      13.367733       9.202312      20.038892   \n",
      "min                20.000000       0.000000       2.000000       0.000000   \n",
      "25%                50.000000      50.000000      52.000000      40.000000   \n",
      "50%                57.000000      58.000000      58.000000      53.000000   \n",
      "75%                64.000000      68.000000      65.000000      68.000000   \n",
      "max               100.000000     100.000000     100.000000     100.000000   \n",
      "\n",
      "       SOCIAL_SCIENCE_SCORE            AGE  \n",
      "count         136878.000000  136878.000000  \n",
      "mean              58.033292      16.862082  \n",
      "std               10.270291       0.863900  \n",
      "min               14.000000      15.000000  \n",
      "25%               51.000000      16.000000  \n",
      "50%               58.000000      17.000000  \n",
      "75%               65.000000      17.000000  \n",
      "max              100.000000      20.000000  \n"
     ]
    }
   ],
   "source": [
    "# 2. Summary Statistics:\n",
    "print(\"\\nSummary statistics for numerical columns:\")\n",
    "print(data.describe())"
   ]
  },
  {
   "cell_type": "code",
   "execution_count": 9,
   "metadata": {},
   "outputs": [],
   "source": [
    "categorical_columns = data.select_dtypes(include=['object'])\n",
    "numerical_columns = data.select_dtypes(include=['number'])\n",
    "binary_columns = data.select_dtypes(include=['bool'])"
   ]
  },
  {
   "cell_type": "code",
   "execution_count": 12,
   "metadata": {},
   "outputs": [],
   "source": [
    "# data"
   ]
  }
 ],
 "metadata": {
  "kernelspec": {
   "display_name": "Python 3",
   "language": "python",
   "name": "python3"
  },
  "language_info": {
   "codemirror_mode": {
    "name": "ipython",
    "version": 3
   },
   "file_extension": ".py",
   "mimetype": "text/x-python",
   "name": "python",
   "nbconvert_exporter": "python",
   "pygments_lexer": "ipython3",
   "version": "3.10.11"
  }
 },
 "nbformat": 4,
 "nbformat_minor": 2
}
